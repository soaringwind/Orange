{
 "cells": [
  {
   "cell_type": "code",
   "execution_count": 208,
   "metadata": {},
   "outputs": [],
   "source": [
    "import pandas as pd\n",
    "import numpy as np\n",
    "import torch.nn as nn\n",
    "# import torch.optim as optim\n",
    "import torch\n",
    "from torch.utils.data import Dataset, DataLoader, random_split"
   ]
  },
  {
   "cell_type": "code",
   "execution_count": 160,
   "metadata": {},
   "outputs": [],
   "source": [
    "class MyDataset(Dataset):\n",
    "    def __init__(self, csv_file):\n",
    "        self.csv_file = csv_file\n",
    "        data = pd.read_csv(csv_file, header=None)\n",
    "        data.dropna(inplace=True)\n",
    "        data = data.replace(\"a\", 1.0)\n",
    "        data = data.replace(\"b\", 2.0)\n",
    "        data = data.replace(\"c\", 3.0)\n",
    "        data = data.replace(\"d\", 4.0)\n",
    "        data = data.replace(\"e\", 5.0)\n",
    "        data = data.replace(\"f\", 6.0)\n",
    "        data = data.replace(\"g\", 7.0)\n",
    "        data = data.replace(\"h\", 8.0)\n",
    "        data.loc[data[6] != \"draw\", 6] = 0.0\n",
    "        data.loc[data[6] == \"draw\", 6] = 1.0\n",
    "        for i in range(6):\n",
    "            data[i] = (data[i]-data[i].mean()) / data[i].std()\n",
    "        data.reset_index(drop=True, inplace=True)\n",
    "        self.data = data.iloc[:, :-1]\n",
    "        self.label = data.iloc[:, -1]\n",
    "        self.data = self.data.astype(\"float\")\n",
    "        self.label = self.label.astype(\"float\")\n",
    "        self.data = torch.tensor(np.array(self.data.values), dtype=torch.float32)\n",
    "        # self.label = torch.tensor(np.array([[1, 0] if self.label[i] == 1.0 else [0, 1] for i in range(len(self.label))]), dtype=torch.float32)\n",
    "        self.label = torch.tensor(np.array(self.label), dtype=torch.long)\n",
    "\n",
    "    def __getitem__(self, index):\n",
    "        if torch.is_tensor(index):\n",
    "            index = index.tolist()\n",
    "        sample = {\"data\": self.data[index], \"label\": self.label[index]}\n",
    "        return sample\n",
    "\n",
    "    def __len__(self):\n",
    "        return len(self.data)"
   ]
  },
  {
   "cell_type": "code",
   "execution_count": 210,
   "metadata": {},
   "outputs": [
    {
     "data": {
      "text/plain": [
       "{'data': tensor([-2.2511, -0.9218, -1.1078, -0.6625, -0.8771, -1.0905]),\n",
       " 'label': tensor(1)}"
      ]
     },
     "execution_count": 210,
     "metadata": {},
     "output_type": "execute_result"
    }
   ],
   "source": [
    "dataset = MyDataset(r\"C:\\Users\\weitao\\Desktop\\Untitled Folder\\ml\\krkopt.data\")\n",
    "dataset_length = len(dataset)\n",
    "trainset_length = int(0.7 * dataset_length)\n",
    "validset_length = int(0.1 * dataset_length)\n",
    "testset_length = dataset_length - trainset_length - validset_length\n",
    "trainset, validset, testset = random_split(dataset, [trainset_length, validset_length, testset_length])\n",
    "dataset[0]"
   ]
  },
  {
   "cell_type": "code",
   "execution_count": 219,
   "metadata": {},
   "outputs": [],
   "source": [
    "# dataloader = DataLoader(dataset, 100, shuffle=True)\n",
    "# for i_batch, smaple_batched in enumerate(dataloader):\n",
    "#     print(i_batch, smaple_batched[\"label\"].size())\n",
    "#     break\n",
    "trainloader = DataLoader(trainset, batch_size=100, shuffle=True)\n",
    "validloader = DataLoader(validset, batch_size=100, shuffle=False)\n",
    "testloader = DataLoader(testset, batch_size=100, shuffle=False)"
   ]
  },
  {
   "cell_type": "code",
   "execution_count": 246,
   "metadata": {},
   "outputs": [],
   "source": [
    "class MyModel(nn.Module):\n",
    "    def __init__(self):\n",
    "        super(MyModel, self).__init__()\n",
    "        self.net = nn.Sequential(\n",
    "            nn.Linear(6, 6), \n",
    "            nn.BatchNorm1d(6), \n",
    "            nn.ReLU(), \n",
    "            nn.Linear(6, 10),\n",
    "            nn.BatchNorm1d(10), \n",
    "            nn.ReLU(),  \n",
    "            nn.Linear(10, 6), \n",
    "            nn.BatchNorm1d(6), \n",
    "            nn.Linear(6, 2)\n",
    "            # 之所以最后不加softmax因为，计算crossentropyloss的时候会计算\n",
    "        )\n",
    "    \n",
    "    def forward(self, x):\n",
    "        return self.net(x)"
   ]
  },
  {
   "cell_type": "code",
   "execution_count": 247,
   "metadata": {},
   "outputs": [],
   "source": [
    "model = MyModel()\n",
    "criterion = nn.CrossEntropyLoss()\n",
    "optimizer = torch.optim.SGD(model.parameters(), lr=0.01, momentum=0)"
   ]
  },
  {
   "cell_type": "code",
   "execution_count": 249,
   "metadata": {},
   "outputs": [
    {
     "name": "stdout",
     "output_type": "stream",
     "text": [
      "loss: 0.163\n",
      "accuary: 0.944\n",
      "loss: 0.153\n",
      "accuary: 0.947\n",
      "loss: 0.141\n",
      "accuary: 0.953\n",
      "loss: 0.133\n",
      "accuary: 0.955\n",
      "loss: 0.117\n",
      "accuary: 0.961\n",
      "loss: 0.106\n",
      "accuary: 0.963\n",
      "loss: 0.096\n",
      "accuary: 0.968\n",
      "loss: 0.088\n",
      "accuary: 0.971\n",
      "loss: 0.089\n",
      "accuary: 0.969\n",
      "loss: 0.089\n",
      "accuary: 0.975\n"
     ]
    }
   ],
   "source": [
    "for epoch in range(10):\n",
    "    runing_loss = 0\n",
    "    for i, data in enumerate(trainloader, 0):\n",
    "        inputs, labels = data[\"data\"], data[\"label\"]\n",
    "        optimizer.zero_grad()\n",
    "        pred = model(inputs)\n",
    "        # 如果有多个样本，则已经做了平均\n",
    "        loss = criterion(pred, labels)\n",
    "        loss.backward()\n",
    "        optimizer.step()\n",
    "        runing_loss += loss.item()\n",
    "    print(\"loss: %.3f\"%(runing_loss / i))\n",
    "    with torch.no_grad():\n",
    "        correct = 0\n",
    "        total = 0\n",
    "        for i, data in enumerate(validloader, 0):\n",
    "            inputs, labels = data[\"data\"], data[\"label\"]\n",
    "            out = model(inputs)\n",
    "            _, pre = torch.max(out.data, 1)\n",
    "            total += labels.size(0)\n",
    "            correct += (labels == pre).sum().item()\n",
    "        # print(correct, total)\n",
    "        print(\"accuary: %.3f\" %(correct / total))"
   ]
  },
  {
   "cell_type": "code",
   "execution_count": 250,
   "metadata": {},
   "outputs": [
    {
     "name": "stdout",
     "output_type": "stream",
     "text": [
      "5415 5612\n",
      "accuary: 0.965\n"
     ]
    }
   ],
   "source": [
    "with torch.no_grad():\n",
    "    correct = 0\n",
    "    total = 0\n",
    "    for i, data in enumerate(testloader, 0):\n",
    "        inputs, labels = data[\"data\"], data[\"label\"]\n",
    "        out = model(inputs)\n",
    "        _, pre = torch.max(out.data, 1)\n",
    "        total += labels.size(0)\n",
    "        correct += (labels == pre).sum().item()\n",
    "    print(correct, total)\n",
    "    print(\"accuary: %.3f\" %(correct / total))"
   ]
  },
  {
   "cell_type": "code",
   "execution_count": null,
   "metadata": {},
   "outputs": [],
   "source": []
  }
 ],
 "metadata": {
  "interpreter": {
   "hash": "05f5b84f8363bc0b50bb9942298a10030d93d049fd76aaf3a27f58502d836f52"
  },
  "kernelspec": {
   "display_name": "Python 3.7.11 ('cv')",
   "language": "python",
   "name": "python3"
  },
  "language_info": {
   "codemirror_mode": {
    "name": "ipython",
    "version": 3
   },
   "file_extension": ".py",
   "mimetype": "text/x-python",
   "name": "python",
   "nbconvert_exporter": "python",
   "pygments_lexer": "ipython3",
   "version": "3.7.11"
  },
  "orig_nbformat": 4
 },
 "nbformat": 4,
 "nbformat_minor": 2
}
