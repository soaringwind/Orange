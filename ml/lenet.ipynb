{
 "cells": [
  {
   "cell_type": "code",
   "execution_count": 1,
   "metadata": {},
   "outputs": [],
   "source": [
    "import torch \n",
    "import pandas as pd\n",
    "import numpy as np\n",
    "import torch.nn as nn \n",
    "import cv2\n",
    "import matplotlib.pyplot as plt\n",
    "from torch.utils.data import Dataset, DataLoader, random_split"
   ]
  },
  {
   "cell_type": "code",
   "execution_count": 4,
   "metadata": {},
   "outputs": [
    {
     "name": "stdout",
     "output_type": "stream",
     "text": [
      "训练样本数据维度:  (60000, 784)\n",
      "训练样本标签维度:  (60000, 1)\n"
     ]
    }
   ],
   "source": [
    "with open(r\"C:\\Users\\weitao\\Desktop\\Untitled Folder\\ml\\train-images-idx3-ubyte\\train-images.idx3-ubyte\", encoding=\"gbk\") as f:\n",
    "    # 只能读取固定格式的二进制文件\n",
    "    loaded = np.fromfile(file=f, dtype=np.uint8)\n",
    "    train_data = loaded[16:].reshape((60000, 784))\n",
    "print(\"训练样本数据维度: \", train_data.shape)\n",
    "with open(r\"C:\\Users\\weitao\\Desktop\\Untitled Folder\\ml\\train-labels-idx1-ubyte\\train-labels.idx1-ubyte\", encoding=\"gbk\") as f:\n",
    "    # 只能读取固定格式的二进制文件\n",
    "    loaded = np.fromfile(file=f, dtype=np.uint8)\n",
    "    train_label = loaded[8:].reshape((60000, 1))\n",
    "print(\"训练样本标签维度: \", train_label.shape)"
   ]
  },
  {
   "cell_type": "code",
   "execution_count": 5,
   "metadata": {},
   "outputs": [
    {
     "name": "stdout",
     "output_type": "stream",
     "text": [
      "标签:  [5]\n"
     ]
    },
    {
     "data": {
      "text/plain": [
       "<matplotlib.image.AxesImage at 0x1c005543548>"
      ]
     },
     "execution_count": 5,
     "metadata": {},
     "output_type": "execute_result"
    },
    {
     "data": {
      "image/png": "[encoded data removed]",
      "text/plain": [
       "<Figure size 432x288 with 1 Axes>"
      ]
     },
     "metadata": {
      "needs_background": "light"
     },
     "output_type": "display_data"
    }
   ],
   "source": [
    "sample = train_data[0, :].reshape(28, 28)\n",
    "label = train_label[0, :]\n",
    "print(\"标签: \", label)\n",
    "plt.imshow(sample, cmap=\"gray\")"
   ]
  },
  {
   "cell_type": "code",
   "execution_count": 9,
   "metadata": {},
   "outputs": [],
   "source": [
    "class MyDataset(Dataset):\n",
    "    def __init__(self, image_file_name, label_file_name):\n",
    "        self.image_file_name = image_file_name\n",
    "        self.label_file_name = label_file_name\n",
    "        with open(self.image_file_name, encoding=\"gbk\") as f:\n",
    "            loaded = np.fromfile(file=f, dtype=np.uint8)\n",
    "            self.train_data = loaded[16:].reshape((60000, 784))\n",
    "        with open(self.label_file_name, encoding=\"gbk\") as f:\n",
    "            loaded = np.fromfile(file=f, dtype=np.uint8)\n",
    "            self.train_label = loaded[8:].reshape((60000, 1))\n",
    "        self.train_data = torch.from_numpy(self.train_data.reshape(-1, 1, 28, 28)).float() / 255.0\n",
    "        self.train_label = torch.from_numpy(self.train_label).reshape(60000)\n",
    "        self.train_label = self.train_label.long()\n",
    "        \n",
    "\n",
    "    def __getitem__(self, index):\n",
    "        if torch.is_tensor(index):\n",
    "            index = index.tolist()\n",
    "        sample = {\"data\": self.train_data[index], \"label\": self.train_label[index]}\n",
    "        return sample\n",
    "\n",
    "    def __len__(self):\n",
    "        return len(self.train_data)"
   ]
  },
  {
   "cell_type": "code",
   "execution_count": 10,
   "metadata": {},
   "outputs": [
    {
     "name": "stdout",
     "output_type": "stream",
     "text": [
      "torch.Size([28, 28])\n",
      "标签:  5\n"
     ]
    },
    {
     "data": {
      "text/plain": [
       "<matplotlib.image.AxesImage at 0x2664805eb88>"
      ]
     },
     "execution_count": 10,
     "metadata": {},
     "output_type": "execute_result"
    },
    {
     "data": {
      "image/png": "[encoded data removed]",
      "text/plain": [
       "<Figure size 432x288 with 1 Axes>"
      ]
     },
     "metadata": {
      "needs_background": "light"
     },
     "output_type": "display_data"
    }
   ],
   "source": [
    "dataset = MyDataset(r\"C:\\Users\\weitao\\Desktop\\Untitled Folder\\ml\\train-images-idx3-ubyte\\train-images.idx3-ubyte\", r\"C:\\Users\\weitao\\Desktop\\Untitled Folder\\ml\\train-labels-idx1-ubyte\\train-labels.idx1-ubyte\")\n",
    "sample = dataset.train_data[0].reshape(28, 28)\n",
    "# sample = dataset.train_data[0]\n",
    "print(sample.shape)\n",
    "label = dataset.train_label[0]\n",
    "print(\"标签: \", label.item())\n",
    "plt.imshow(sample, cmap=\"gray\")"
   ]
  },
  {
   "cell_type": "code",
   "execution_count": 11,
   "metadata": {},
   "outputs": [],
   "source": [
    "dataset_length = len(dataset)\n",
    "trainset_length = int(0.7 * dataset_length)\n",
    "validset_length = int(0.1 * dataset_length)\n",
    "testset_length = dataset_length - trainset_length - validset_length\n",
    "# random_split已经对数据进行随机选取，随机数和随机种子有关。如果不用random_split，一定要先数据集打乱(np.random.shuffle(index_list))再取。\n",
    "trainset, validset, testset = random_split(dataset, [trainset_length, validset_length, testset_length])\n",
    "trainloader = DataLoader(trainset, batch_size=100, shuffle=True)\n",
    "validloader = DataLoader(validset, batch_size=100, shuffle=False)\n",
    "testloader = DataLoader(testset, batch_size=100, shuffle=False)"
   ]
  },
  {
   "cell_type": "code",
   "execution_count": 28,
   "metadata": {},
   "outputs": [],
   "source": [
    "class MyModel(nn.Module):\n",
    "    def __init__(self):\n",
    "        super(MyModel, self).__init__()\n",
    "        self.conv = nn.Sequential(\n",
    "            nn.Conv2d(1, 6, 5), \n",
    "            nn.ReLU(), \n",
    "            nn.MaxPool2d(2, 2), \n",
    "            nn.Conv2d(6, 16, 5), \n",
    "            nn.ReLU(), \n",
    "            nn.MaxPool2d(2, 2), \n",
    "        )\n",
    "        self.fc = nn.Sequential(\n",
    "            nn.Linear(256, 120), \n",
    "            nn.BatchNorm1d(120), \n",
    "            nn.ReLU(), \n",
    "            nn.Linear(120, 84), \n",
    "            nn.BatchNorm1d(84), \n",
    "            nn.ReLU(), \n",
    "            nn.Linear(84, 10)\n",
    "        )\n",
    "    \n",
    "    def forward(self, x):\n",
    "        conv_res = self.conv(x)\n",
    "        return self.fc(conv_res.view(x.shape[0], -1))"
   ]
  },
  {
   "cell_type": "code",
   "execution_count": 29,
   "metadata": {},
   "outputs": [
    {
     "name": "stdout",
     "output_type": "stream",
     "text": [
      "loss: 0.126\n",
      "accuary: 0.976\n",
      "loss: 0.058\n",
      "accuary: 0.978\n",
      "loss: 0.047\n",
      "accuary: 0.981\n",
      "loss: 0.036\n",
      "accuary: 0.983\n",
      "loss: 0.034\n",
      "accuary: 0.985\n",
      "loss: 0.028\n",
      "accuary: 0.986\n",
      "loss: 0.026\n",
      "accuary: 0.983\n",
      "loss: 0.022\n",
      "accuary: 0.986\n",
      "loss: 0.023\n",
      "accuary: 0.983\n",
      "loss: 0.018\n",
      "accuary: 0.985\n"
     ]
    }
   ],
   "source": [
    "model = MyModel()\n",
    "criterion = nn.CrossEntropyLoss()\n",
    "optimizer = torch.optim.Adam(params=model.parameters(), lr=0.01)\n",
    "# 一次epoch代表将整个训练集跑了一次\n",
    "for epoch in range(10):\n",
    "    runing_loss = 0\n",
    "    for i, data in enumerate(trainloader, 0):\n",
    "        inputs, labels = data[\"data\"], data[\"label\"]\n",
    "        optimizer.zero_grad()\n",
    "        # print(inputs.shape)\n",
    "        pred = model(inputs)\n",
    "        # print(pred)\n",
    "        # break\n",
    "        # 如果有多个样本，则已经做了平均\n",
    "        loss = criterion(pred, labels)\n",
    "        loss.backward()\n",
    "        optimizer.step()\n",
    "        runing_loss += loss.item()\n",
    "    print(\"loss: %.3f\"%(runing_loss / (i+1)))\n",
    "    # 验证集上看本次模型的效果\n",
    "    with torch.no_grad():\n",
    "        correct = 0\n",
    "        total = 0\n",
    "        for i, data in enumerate(validloader, 0):\n",
    "            inputs, labels = data[\"data\"], data[\"label\"]\n",
    "            out = model(inputs)\n",
    "            _, pre = torch.max(out.data, 1)\n",
    "            total += labels.size(0)\n",
    "            correct += (labels == pre).sum().item()\n",
    "        # print(correct, total)\n",
    "        print(\"accuary: %.3f\" %(correct / total))"
   ]
  },
  {
   "cell_type": "code",
   "execution_count": 30,
   "metadata": {},
   "outputs": [
    {
     "name": "stdout",
     "output_type": "stream",
     "text": [
      "11845 12000\n",
      "accuary: 0.987\n"
     ]
    }
   ],
   "source": [
    "with torch.no_grad():\n",
    "    correct = 0\n",
    "    total = 0\n",
    "    for i, data in enumerate(testloader, 0):\n",
    "        inputs, labels = data[\"data\"], data[\"label\"]\n",
    "        out = model(inputs)\n",
    "        _, pre = torch.max(out.data, 1)\n",
    "        total += labels.size(0)\n",
    "        correct += (labels == pre).sum().item()\n",
    "    print(correct, total)\n",
    "    print(\"accuary: %.3f\" %(correct / total))"
   ]
  },
  {
   "cell_type": "code",
   "execution_count": null,
   "metadata": {},
   "outputs": [],
   "source": []
  }
 ],
 "metadata": {
  "interpreter": {
   "hash": "05f5b84f8363bc0b50bb9942298a10030d93d049fd76aaf3a27f58502d836f52"
  },
  "kernelspec": {
   "display_name": "Python 3.7.11 ('cv')",
   "language": "python",
   "name": "python3"
  },
  "language_info": {
   "codemirror_mode": {
    "name": "ipython",
    "version": 3
   },
   "file_extension": ".py",
   "mimetype": "text/x-python",
   "name": "python",
   "nbconvert_exporter": "python",
   "pygments_lexer": "ipython3",
   "version": "3.7.11"
  },
  "orig_nbformat": 4
 },
 "nbformat": 4,
 "nbformat_minor": 2
}
