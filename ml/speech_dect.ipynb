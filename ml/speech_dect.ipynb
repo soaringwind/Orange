{
 "cells": [
  {
   "cell_type": "code",
   "execution_count": 1,
   "metadata": {},
   "outputs": [],
   "source": [
    "import torch\n",
    "import numpy as np \n",
    "import pandas as pd \n",
    "import matplotlib.pyplot as plt \n",
    "from torch.utils.data import Dataset, DataLoader, random_split\n",
    "import torch.nn as nn\n",
    "from libsvm.svmutil import svm_train, svm_predict, svm_problem, svm_parameter"
   ]
  },
  {
   "cell_type": "code",
   "execution_count": 2,
   "metadata": {},
   "outputs": [
    {
     "name": "stdout",
     "output_type": "stream",
     "text": [
      "总数据行数:  44610\n"
     ]
    },
    {
     "data": {
      "text/html": [
       "<div>\n",
       "<style scoped>\n",
       "    .dataframe tbody tr th:only-of-type {\n",
       "        vertical-align: middle;\n",
       "    }\n",
       "\n",
       "    .dataframe tbody tr th {\n",
       "        vertical-align: top;\n",
       "    }\n",
       "\n",
       "    .dataframe thead th {\n",
       "        text-align: right;\n",
       "    }\n",
       "</style>\n",
       "<table border=\"1\" class=\"dataframe\">\n",
       "  <thead>\n",
       "    <tr style=\"text-align: right;\">\n",
       "      <th></th>\n",
       "      <th>0</th>\n",
       "      <th>1</th>\n",
       "      <th>2</th>\n",
       "      <th>3</th>\n",
       "      <th>4</th>\n",
       "      <th>5</th>\n",
       "      <th>6</th>\n",
       "    </tr>\n",
       "  </thead>\n",
       "  <tbody>\n",
       "    <tr>\n",
       "      <th>0</th>\n",
       "      <td>0.65307</td>\n",
       "      <td>0.91350</td>\n",
       "      <td>0.99926</td>\n",
       "      <td>0.18748</td>\n",
       "      <td>0.14696</td>\n",
       "      <td>0.16105</td>\n",
       "      <td>-1</td>\n",
       "    </tr>\n",
       "    <tr>\n",
       "      <th>1</th>\n",
       "      <td>0.95969</td>\n",
       "      <td>2.00650</td>\n",
       "      <td>3.36610</td>\n",
       "      <td>0.27832</td>\n",
       "      <td>0.25881</td>\n",
       "      <td>0.18512</td>\n",
       "      <td>1</td>\n",
       "    </tr>\n",
       "    <tr>\n",
       "      <th>2</th>\n",
       "      <td>0.91350</td>\n",
       "      <td>0.99926</td>\n",
       "      <td>1.36200</td>\n",
       "      <td>0.14696</td>\n",
       "      <td>0.16105</td>\n",
       "      <td>0.19826</td>\n",
       "      <td>-1</td>\n",
       "    </tr>\n",
       "    <tr>\n",
       "      <th>3</th>\n",
       "      <td>2.00650</td>\n",
       "      <td>3.36610</td>\n",
       "      <td>2.87970</td>\n",
       "      <td>0.25881</td>\n",
       "      <td>0.18512</td>\n",
       "      <td>0.18681</td>\n",
       "      <td>1</td>\n",
       "    </tr>\n",
       "    <tr>\n",
       "      <th>4</th>\n",
       "      <td>0.99926</td>\n",
       "      <td>1.36200</td>\n",
       "      <td>1.58480</td>\n",
       "      <td>0.16105</td>\n",
       "      <td>0.19826</td>\n",
       "      <td>0.34915</td>\n",
       "      <td>-1</td>\n",
       "    </tr>\n",
       "  </tbody>\n",
       "</table>\n",
       "</div>"
      ],
      "text/plain": [
       "         0        1        2        3        4        5  6\n",
       "0  0.65307  0.91350  0.99926  0.18748  0.14696  0.16105 -1\n",
       "1  0.95969  2.00650  3.36610  0.27832  0.25881  0.18512  1\n",
       "2  0.91350  0.99926  1.36200  0.14696  0.16105  0.19826 -1\n",
       "3  2.00650  3.36610  2.87970  0.25881  0.18512  0.18681  1\n",
       "4  0.99926  1.36200  1.58480  0.16105  0.19826  0.34915 -1"
      ]
     },
     "execution_count": 2,
     "metadata": {},
     "output_type": "execute_result"
    }
   ],
   "source": [
    "df = pd.read_csv(\"./speech_training.data\", sep=\"\\s+\", header=None)\n",
    "print(\"总数据行数: \", len(df))\n",
    "df.head()"
   ]
  },
  {
   "cell_type": "code",
   "execution_count": 4,
   "metadata": {},
   "outputs": [],
   "source": [
    "data = []\n",
    "label = df.iloc[:, -1].tolist()\n",
    "for i in range(len(df)):\n",
    "    data.append(df.iloc[i, :-1].to_dict())"
   ]
  },
  {
   "cell_type": "code",
   "execution_count": 5,
   "metadata": {},
   "outputs": [],
   "source": [
    "idx = [i for i in range(len(df))]\n",
    "np.random.shuffle(idx)\n",
    "train_len = int(0.7 * len(df))\n",
    "test_len = 0.3*len(df)\n",
    "train_df = df.iloc[idx[:train_len], :]\n",
    "test_df = df.iloc[idx[train_len:], :]"
   ]
  },
  {
   "cell_type": "code",
   "execution_count": 6,
   "metadata": {},
   "outputs": [],
   "source": [
    "train_data = []\n",
    "train_label = train_df.iloc[:, -1].tolist()\n",
    "for i in range(len(train_df)):\n",
    "    train_data.append(train_df.iloc[i, :-1].to_dict())\n",
    "test_data = []\n",
    "test_label = test_df.iloc[:, -1].tolist()\n",
    "for i in range(len(test_df)):\n",
    "    test_data.append(test_df.iloc[i, :-1].to_dict())"
   ]
  },
  {
   "cell_type": "code",
   "execution_count": 7,
   "metadata": {},
   "outputs": [
    {
     "name": "stdout",
     "output_type": "stream",
     "text": [
      "Accuracy = 76.2702% (10208/13384) (classification)\n",
      "Accuracy = 76.0909% (10184/13384) (classification)\n",
      "Accuracy = 75.7472% (10138/13384) (classification)\n",
      "Accuracy = 76.1581% (10193/13384) (classification)\n",
      "Accuracy = 75.9713% (10168/13384) (classification)\n",
      "Accuracy = 75.5977% (10118/13384) (classification)\n",
      "Accuracy = 76.0759% (10182/13384) (classification)\n",
      "Accuracy = 75.7696% (10141/13384) (classification)\n",
      "Accuracy = 75.4334% (10096/13384) (classification)\n"
     ]
    }
   ],
   "source": [
    "best_score = 0\n",
    "best_model = None\n",
    "prob = svm_problem(train_label, train_data)\n",
    "for i in range(5, 10):\n",
    "    c = str(np.power(2.0, i))\n",
    "    for j in range(0, 3):\n",
    "        g = str(np.power(2.0, j))\n",
    "        param = svm_parameter(\"-s 0 -t 2 -c %s -g %s\" % (c, g))\n",
    "        model = svm_train(prob, param)\n",
    "        p_label, p_acc, p_val = svm_predict(test_label, test_data, model)\n",
    "        if p_acc[0] > best_score:\n",
    "            best_score = p_acc[0]\n",
    "            best_model = model"
   ]
  },
  {
   "cell_type": "code",
   "execution_count": 48,
   "metadata": {},
   "outputs": [],
   "source": [
    "class MyDataset(Dataset):\n",
    "    def __init__(self, file_name):\n",
    "        self.df = pd.read_csv(file_name, sep=\"\\s+\", header=None)\n",
    "        self.df.iloc[self.df.iloc[:, -1]==-1, -1] = 0\n",
    "        self.data = self.df.iloc[:, :-1]\n",
    "        for i in range(6):\n",
    "            max_val = self.data.iloc[:, i].max()\n",
    "            min_val = self.data.iloc[:, i].min()\n",
    "            self.data.iloc[:, i] = (self.data.iloc[:, i] - min_val) / (max_val - min_val)\n",
    "        self.data = torch.from_numpy(self.data.values).float()\n",
    "        self.label = torch.tensor(self.df.iloc[:, -1]).long()\n",
    "        \n",
    "    def __getitem__(self, index):\n",
    "        if torch.is_tensor(index):\n",
    "            index = index.tolist()\n",
    "        sample = {\"data\": self.data[index, :], \"label\": self.label[index]}\n",
    "        return sample\n",
    "\n",
    "    def __len__(self):\n",
    "        return len(self.df)"
   ]
  },
  {
   "cell_type": "code",
   "execution_count": 49,
   "metadata": {},
   "outputs": [
    {
     "data": {
      "text/plain": [
       "{'data': tensor([0.0170, 0.0238, 0.0260, 0.1376, 0.0656, 0.1182]),\n",
       " 'label': tensor(0)}"
      ]
     },
     "execution_count": 49,
     "metadata": {},
     "output_type": "execute_result"
    }
   ],
   "source": [
    "dataset = MyDataset(r\"C:\\Users\\weitao\\Desktop\\Untitled Folder\\ml\\speech_training.data\")\n",
    "dataset[0]"
   ]
  },
  {
   "cell_type": "code",
   "execution_count": 50,
   "metadata": {},
   "outputs": [],
   "source": [
    "train_data_len = int(0.7*len(dataset))\n",
    "valid_data_len = int(0.1*len(dataset))\n",
    "test_data_len = len(dataset) - train_data_len - valid_data_len\n",
    "train_data, valid_data, test_data = random_split(dataset, [train_data_len, valid_data_len, test_data_len])\n",
    "train_data_loader = DataLoader(train_data, batch_size=100, shuffle=False)\n",
    "valid_data_loader = DataLoader(valid_data, batch_size=100, shuffle=False)\n",
    "test_data_loader = DataLoader(test_data, batch_size=100, shuffle=False)"
   ]
  },
  {
   "cell_type": "code",
   "execution_count": 51,
   "metadata": {},
   "outputs": [],
   "source": [
    "class MyModel(nn.Module):\n",
    "    def __init__(self):\n",
    "        super(MyModel, self).__init__()\n",
    "        self.fc = nn.Sequential(\n",
    "            nn.Linear(6, 10), \n",
    "            nn.BatchNorm1d(10), \n",
    "            nn.ReLU(), \n",
    "            nn.Linear(10, 10), \n",
    "            nn.BatchNorm1d(10), \n",
    "            nn.ReLU(), \n",
    "            nn.Linear(10, 2)\n",
    "        )\n",
    "\n",
    "    def forward(self, data):\n",
    "        return self.fc(data)"
   ]
  },
  {
   "cell_type": "code",
   "execution_count": 58,
   "metadata": {},
   "outputs": [
    {
     "name": "stdout",
     "output_type": "stream",
     "text": [
      "误差:  0.5991135992752478\n",
      "accuary: 0.705\n",
      "误差:  0.5672440457458313\n",
      "accuary: 0.708\n",
      "误差:  0.5580739580785123\n",
      "accuary: 0.711\n",
      "误差:  0.5523777610768145\n",
      "accuary: 0.712\n",
      "误差:  0.5485320388318632\n",
      "accuary: 0.715\n",
      "误差:  0.545586817656843\n",
      "accuary: 0.716\n",
      "误差:  0.5432827640265322\n",
      "accuary: 0.716\n",
      "误差:  0.5413373159333921\n",
      "accuary: 0.719\n",
      "误差:  0.5394644389708583\n",
      "accuary: 0.721\n",
      "误差:  0.5373141410442206\n",
      "accuary: 0.727\n"
     ]
    }
   ],
   "source": [
    "model = MyModel()\n",
    "crition = nn.CrossEntropyLoss()\n",
    "optim = torch.optim.SGD(model.parameters(), lr=0.01, momentum=0.01)\n",
    "for epoch in range(10):\n",
    "    running_loss = 0\n",
    "    for i, data in enumerate(train_data_loader, 0):\n",
    "        optim.zero_grad()\n",
    "        inputs, labels = data[\"data\"], data[\"label\"]\n",
    "        pred = model(inputs)\n",
    "        loss = crition(pred, labels)\n",
    "        loss.backward()\n",
    "        optim.step()\n",
    "        running_loss += loss.item()\n",
    "    print(\"误差: \", running_loss / (i+1))\n",
    "    with torch.no_grad():\n",
    "        correct = 0\n",
    "        total = 0\n",
    "        for i, data in enumerate(valid_data_loader, 0):\n",
    "            inputs, labels = data[\"data\"], data[\"label\"]\n",
    "            out = model(inputs)\n",
    "            _, pre = torch.max(out, 1)\n",
    "            total += labels.size(0)\n",
    "            correct += (pre == labels).sum().item()\n",
    "        print(\"accuary: %.3f\"%(correct / total))"
   ]
  },
  {
   "cell_type": "code",
   "execution_count": null,
   "metadata": {},
   "outputs": [],
   "source": []
  }
 ],
 "metadata": {
  "interpreter": {
   "hash": "05f5b84f8363bc0b50bb9942298a10030d93d049fd76aaf3a27f58502d836f52"
  },
  "kernelspec": {
   "display_name": "Python 3.7.11 ('cv')",
   "language": "python",
   "name": "python3"
  },
  "language_info": {
   "codemirror_mode": {
    "name": "ipython",
    "version": 3
   },
   "file_extension": ".py",
   "mimetype": "text/x-python",
   "name": "python",
   "nbconvert_exporter": "python",
   "pygments_lexer": "ipython3",
   "version": "3.7.11"
  },
  "orig_nbformat": 4
 },
 "nbformat": 4,
 "nbformat_minor": 2
}
