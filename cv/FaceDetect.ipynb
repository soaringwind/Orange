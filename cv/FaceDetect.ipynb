{
 "cells": [
  {
   "cell_type": "code",
   "execution_count": 2,
   "metadata": {},
   "outputs": [],
   "source": [
    "import cv2 as cv"
   ]
  },
  {
   "cell_type": "code",
   "execution_count": 3,
   "metadata": {},
   "outputs": [
    {
     "name": "stdout",
     "output_type": "stream",
     "text": [
      "Detected  1  face\n"
     ]
    }
   ],
   "source": [
    "face_cascade = cv.CascadeClassifier(r'./haarcascade_frontalface_default.xml')\n",
    "img = cv.imread('./tangyan-1.jpg')\n",
    "# 检测脸部\n",
    "faces = face_cascade.detectMultiScale(img, \n",
    "\t\tscaleFactor=1.1, \n",
    "\t\tminNeighbors=5, \n",
    "\t\tminSize=(30, 30),\n",
    "        flags=cv.CASCADE_SCALE_IMAGE)\n",
    "print('Detected ', len(faces), \" face\")\n",
    "# 在图片中显示检测到的人脸数\n",
    "label = 'Result: Detected ' + str(len(faces)) +\" faces !\"\n",
    "cv.putText(img, label, (10, 20),\n",
    "           cv.FONT_HERSHEY_SCRIPT_COMPLEX, \n",
    "           0.8, (0, 0, 0), 1)\n",
    "# 显示图片\n",
    "cv.imshow('img', img)\n",
    "cv.waitKey(0)\n",
    "cv.destroyAllWindows()"
   ]
  },
  {
   "cell_type": "code",
   "execution_count": 4,
   "metadata": {},
   "outputs": [],
   "source": [
    "for (x, y, w, h) in faces:\n",
    "    img = cv.rectangle(img, (x, y), (x + w, y + h), (255, 0, 0), 1)\n",
    "    # cv2.circle(img, (int((x + x + w) / 2), int((y + y + h) / 2)), int(w / 2), (0, 255, 0), 1)\n",
    "cv.imshow('img', img)\n",
    "cv.waitKey(0)\n",
    "cv.destroyAllWindows()"
   ]
  },
  {
   "cell_type": "code",
   "execution_count": null,
   "metadata": {},
   "outputs": [],
   "source": []
  }
 ],
 "metadata": {
  "kernelspec": {
   "display_name": "Python 3.7.11 ('cv')",
   "language": "python",
   "name": "python3"
  },
  "language_info": {
   "codemirror_mode": {
    "name": "ipython",
    "version": 3
   },
   "file_extension": ".py",
   "mimetype": "text/x-python",
   "name": "python",
   "nbconvert_exporter": "python",
   "pygments_lexer": "ipython3",
   "version": "3.7.11"
  },
  "orig_nbformat": 4,
  "vscode": {
   "interpreter": {
    "hash": "05f5b84f8363bc0b50bb9942298a10030d93d049fd76aaf3a27f58502d836f52"
   }
  }
 },
 "nbformat": 4,
 "nbformat_minor": 2
}
