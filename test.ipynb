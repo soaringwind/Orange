{
 "cells": [
  {
   "cell_type": "code",
   "execution_count": 33,
   "metadata": {},
   "outputs": [],
   "source": [
    "with open(r\"C:\\Users\\weitao\\Desktop\\Untitled Folder\\新建文本文档.txt\", 'r', encoding=\"utf-8\") as fp:\n",
    "    file = fp.read()\n",
    "    res = []\n",
    "    tem = []\n",
    "    tem_str = ''\n",
    "    for i, line in enumerate(file):\n",
    "        if ord('A') <= ord(line) <= ord('z') or line == '\\n' or line == ' ':\n",
    "            res.append(line)\n",
    "    for line in res:\n",
    "        if ' ' in line:\n",
    "            if tem_str:\n",
    "                tem.append(tem_str)\n",
    "                tem_str = ''\n",
    "            continue\n",
    "        if '\\n' in line:\n",
    "            if tem_str:\n",
    "                tem.append(tem_str)\n",
    "                tem_str = ''\n",
    "            continue\n",
    "        tem_str += line\n",
    "with open(r'test.txt', 'w', encoding='utf-8') as fp:\n",
    "    fp.write(\"\\n\".join(tem))"
   ]
  },
  {
   "cell_type": "code",
   "execution_count": null,
   "metadata": {},
   "outputs": [],
   "source": [
    "with open(r'test.txt', 'r', encoding='utf-8') as fp:\n",
    "    line = fp.readlines()\n",
    "    "
   ]
  }
 ],
 "metadata": {
  "kernelspec": {
   "display_name": "Python 3.8.2 64-bit",
   "language": "python",
   "name": "python3"
  },
  "language_info": {
   "codemirror_mode": {
    "name": "ipython",
    "version": 3
   },
   "file_extension": ".py",
   "mimetype": "text/x-python",
   "name": "python",
   "nbconvert_exporter": "python",
   "pygments_lexer": "ipython3",
   "version": "3.8.2"
  },
  "orig_nbformat": 4,
  "vscode": {
   "interpreter": {
    "hash": "570feb405e2e27c949193ac68f46852414290d515b0ba6e5d90d076ed2284471"
   }
  }
 },
 "nbformat": 4,
 "nbformat_minor": 2
}
