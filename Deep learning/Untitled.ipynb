{
 "cells": [
  {
   "cell_type": "markdown",
   "metadata": {},
   "source": [
    "# 1. 深度学习基础\n",
    "## 1.1 线性回归\n",
    "线性回归输出是一个连续值，因此适用于回归问题。回归问题经常用于预测房屋价格、气温、销售额等连续值的问题。逻辑回归输出的则是一个离散值，适用于图像分类、垃圾邮件识别等分类问题。\n",
    "### 1.1.1 常见参数\n",
    "(1) 训练数据\n",
    "y_hat = x1w1 + x2w2 + b (模型)\n",
    "w1, w2为权重(weight), b是偏差(bias)，且均为标量。统称为参数(parameter, theta)，y_hat是线性回归对真实价格y的预测或估计。标量指的是常量。\n",
    "x1, x2为预测的两个因素，叫做特征(feature)。\n",
    "label为真实值。\n",
    "训练数据集(training data set/ training set)，测试数据集(test data set/ valid data set)，每一个房屋被称为一个样本(sample)。\n",
    "(2) 损失函数\n",
    "l(w1, w2, b) = ((y_hat - y) ** 2) * 1/2 --- 某一个数据的损失值\n",
    "l(w1, w2, b) = sum{((y_hat - y) ** 2) * 1/2} --- 所有数据的损失值\n",
    "w1*, w2*, b* = arg min(l{(w1, w2, b)}) --- 找到最优参数，使损失值最小\n",
    "(3) 优化算法\n",
    "当模型较为简单，可作出解析解(analytical solution)，而大多数情况下，没有解析解，只能通过多次迭代尽可能降低损失函数的值，找出数值解(numerical solution)。\n",
    "### 1.1.2 矢量计算表达式\n",
    "在训练模型的时候，常常会处理多个数据样本，使用矢量计算，可以有效的提高效率。"
   ]
  },
  {
   "cell_type": "code",
   "execution_count": 1,
   "metadata": {},
   "outputs": [],
   "source": [
    "import torch"
   ]
  },
  {
   "cell_type": "code",
   "execution_count": null,
   "metadata": {},
   "outputs": [],
   "source": []
  }
 ],
 "metadata": {
  "kernelspec": {
   "display_name": "Python 3",
   "language": "python",
   "name": "python3"
  },
  "language_info": {
   "codemirror_mode": {
    "name": "ipython",
    "version": 3
   },
   "file_extension": ".py",
   "mimetype": "text/x-python",
   "name": "python",
   "nbconvert_exporter": "python",
   "pygments_lexer": "ipython3",
   "version": "3.7.6"
  }
 },
 "nbformat": 4,
 "nbformat_minor": 4
}
