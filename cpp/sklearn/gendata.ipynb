{
 "cells": [
  {
   "cell_type": "code",
   "execution_count": 2,
   "metadata": {},
   "outputs": [],
   "source": [
    "import numpy as np \n",
    "import pandas as pd \n",
    "import matplotlib.pyplot as plt "
   ]
  },
  {
   "cell_type": "code",
   "execution_count": 34,
   "metadata": {},
   "outputs": [
    {
     "data": {
      "text/plain": [
       "<matplotlib.collections.PathCollection at 0x18d26618548>"
      ]
     },
     "execution_count": 34,
     "metadata": {},
     "output_type": "execute_result"
    },
    {
     "data": {
      "image/png": "[encoded data removed]",
      "text/plain": [
       "<Figure size 432x288 with 1 Axes>"
      ]
     },
     "metadata": {
      "needs_background": "light"
     },
     "output_type": "display_data"
    }
   ],
   "source": [
    "x = np.random.random(50)*10\n",
    "y = np.random.random(50)*10\n",
    "x1 = np.random.random(50)*10 + 20\n",
    "y1 = np.random.random(50)*10 + 20\n",
    "x2 = np.random.random(50)*10 + 40\n",
    "y2 = np.random.random(50)*10 + 40\n",
    "x = x.tolist() + x1.tolist() + x2.tolist()\n",
    "y = y.tolist() + y1.tolist() + y2.tolist()\n",
    "z = {}\n",
    "z[0] = x \n",
    "z[1] = y\n",
    "pd.DataFrame(z).to_csv(\"data.csv\", index=False)\n",
    "plt.scatter(x, y)"
   ]
  },
  {
   "cell_type": "code",
   "execution_count": null,
   "metadata": {},
   "outputs": [],
   "source": []
  }
 ],
 "metadata": {
  "kernelspec": {
   "display_name": "Python 3.7.11 ('cv')",
   "language": "python",
   "name": "python3"
  },
  "language_info": {
   "codemirror_mode": {
    "name": "ipython",
    "version": 3
   },
   "file_extension": ".py",
   "mimetype": "text/x-python",
   "name": "python",
   "nbconvert_exporter": "python",
   "pygments_lexer": "ipython3",
   "version": "3.7.11"
  },
  "orig_nbformat": 4,
  "vscode": {
   "interpreter": {
    "hash": "05f5b84f8363bc0b50bb9942298a10030d93d049fd76aaf3a27f58502d836f52"
   }
  }
 },
 "nbformat": 4,
 "nbformat_minor": 2
}
